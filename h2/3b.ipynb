{
  "nbformat": 4,
  "nbformat_minor": 0,
  "metadata": {
    "colab": {
      "provenance": []
    },
    "kernelspec": {
      "name": "python3",
      "display_name": "Python 3"
    },
    "language_info": {
      "name": "python"
    }
  },
  "cells": [
    {
      "cell_type": "markdown",
      "source": [
        "**1. I start with importing the necessary libraries**"
      ],
      "metadata": {
        "id": "VbFdK-yxEm6x"
      }
    },
    {
      "cell_type": "code",
      "execution_count": 1,
      "metadata": {
        "id": "JYHS23WWEN_H"
      },
      "outputs": [],
      "source": [
        "import pandas as pd\n",
        "import numpy as np\n",
        "\n",
        "from sklearn.model_selection import train_test_split, GridSearchCV\n",
        "from sklearn.svm import SVC\n",
        "from sklearn.preprocessing import LabelEncoder, StandardScaler\n",
        "from sklearn.metrics import classification_report, confusion_matrix"
      ]
    },
    {
      "cell_type": "markdown",
      "source": [
        "**2. Load the dataset**"
      ],
      "metadata": {
        "id": "ufI7bhnTExAe"
      }
    },
    {
      "cell_type": "code",
      "source": [
        "df = pd.read_csv(\"Breast_cancer_data.csv\")"
      ],
      "metadata": {
        "id": "OMGIncqcEZ2-"
      },
      "execution_count": 2,
      "outputs": []
    },
    {
      "cell_type": "markdown",
      "source": [
        "**3. Lets consider X to be the feature and Y to be the target variable and diagonosis is the target in this case**"
      ],
      "metadata": {
        "id": "C62j9nJqE2Mc"
      }
    },
    {
      "cell_type": "code",
      "source": [
        "X = df.drop('diagnosis', axis=1)\n",
        "y = df['diagnosis']"
      ],
      "metadata": {
        "id": "eqHHeGzCEedV"
      },
      "execution_count": 3,
      "outputs": []
    },
    {
      "cell_type": "markdown",
      "source": [
        "**4. Before I split the training and testing sets, I shall first encode the target variable**"
      ],
      "metadata": {
        "id": "VuXzIvjRFGLM"
      }
    },
    {
      "cell_type": "code",
      "source": [
        "le = LabelEncoder()\n",
        "y_encoded = le.fit_transform(y)"
      ],
      "metadata": {
        "id": "H2bd-koZFTzk"
      },
      "execution_count": 5,
      "outputs": []
    },
    {
      "cell_type": "markdown",
      "source": [
        "**5. Now I can move on to splitting the dataset into training and testing sets, I shall do a 75-25 split**"
      ],
      "metadata": {
        "id": "-X_AP3LpFsLB"
      }
    },
    {
      "cell_type": "code",
      "source": [
        "X_train, X_test, y_train, y_test = train_test_split(\n",
        "    X, y_encoded, test_size=0.25, random_state=42\n",
        ")"
      ],
      "metadata": {
        "id": "gwiDLB5kFTLO"
      },
      "execution_count": 6,
      "outputs": []
    },
    {
      "cell_type": "markdown",
      "source": [
        "**6. As per the tutorial, I also normalized the data since it is helpful in SVM problems**"
      ],
      "metadata": {
        "id": "MxZXPRwbG-Us"
      }
    },
    {
      "cell_type": "code",
      "source": [
        "scaler = StandardScaler()\n",
        "X_train_scaled = scaler.fit_transform(X_train)\n",
        "X_test_scaled  = scaler.transform(X_test)"
      ],
      "metadata": {
        "id": "BTLJfU5iGDnn"
      },
      "execution_count": 8,
      "outputs": []
    },
    {
      "cell_type": "markdown",
      "source": [
        "**7. Starting with the grid search, first I assigned values to search for the best regularization parameter. For this case I set the estimator as SVC and kernel is set to linear since it is a linear SVM problem and I went with 5 fold cross validation and retrieved the best accuracy it could calculate. As we can see grid search found that 100 was the best hyperparameter and it is 93% accurate**"
      ],
      "metadata": {
        "id": "BTC4KJ8-HqCs"
      }
    },
    {
      "cell_type": "code",
      "source": [
        "param_grid = {\n",
        "    'C': [0.1, 1, 10, 100, 1000]\n",
        "}\n",
        "\n",
        "grid_search = GridSearchCV(\n",
        "    estimator=SVC(kernel='linear'),\n",
        "    param_grid=param_grid,\n",
        "    cv=5,\n",
        "    n_jobs=-1,\n",
        "    verbose=1\n",
        ")\n",
        "\n",
        "grid_search.fit(X_train_scaled, y_train)\n",
        "\n",
        "print(\"Best parameters found by Grid Search:\", grid_search.best_params_)\n",
        "print(\"Best cross-validation accuracy:\", grid_search.best_score_)\n",
        "\n",
        "best_svc = grid_search.best_estimator_"
      ],
      "metadata": {
        "colab": {
          "base_uri": "https://localhost:8080/"
        },
        "id": "hN-c_HVSHif-",
        "outputId": "fdfdfe9c-df98-4b15-8a42-408dd32b6637"
      },
      "execution_count": 9,
      "outputs": [
        {
          "output_type": "stream",
          "name": "stdout",
          "text": [
            "Fitting 5 folds for each of 5 candidates, totalling 25 fits\n",
            "Best parameters found by Grid Search: {'C': 100}\n",
            "Best cross-validation accuracy: 0.9318741450068402\n"
          ]
        }
      ]
    },
    {
      "cell_type": "markdown",
      "source": [
        "**8. Now we have to evaluate the model on the test set, first we do the classification report on the test set and next the confusion matrix with the test set according to the tutorial**"
      ],
      "metadata": {
        "id": "sgURdIaOIgGC"
      }
    },
    {
      "cell_type": "code",
      "source": [
        "y_pred = best_svc.predict(X_test_scaled)\n",
        "\n",
        "print(\"\\nClassification Report on Test Set:\")\n",
        "print(classification_report(y_test, y_pred))\n",
        "\n",
        "print(\"Confusion Matrix on Test Set:\")\n",
        "print(confusion_matrix(y_test, y_pred))"
      ],
      "metadata": {
        "colab": {
          "base_uri": "https://localhost:8080/"
        },
        "id": "lVwSUJHfIfmS",
        "outputId": "2dae872d-2a4e-468b-e1a6-e1ee42d85f94"
      },
      "execution_count": 10,
      "outputs": [
        {
          "output_type": "stream",
          "name": "stdout",
          "text": [
            "\n",
            "Classification Report on Test Set:\n",
            "              precision    recall  f1-score   support\n",
            "\n",
            "           0       0.93      0.93      0.93        54\n",
            "           1       0.96      0.96      0.96        89\n",
            "\n",
            "    accuracy                           0.94       143\n",
            "   macro avg       0.94      0.94      0.94       143\n",
            "weighted avg       0.94      0.94      0.94       143\n",
            "\n",
            "Confusion Matrix on Test Set:\n",
            "[[50  4]\n",
            " [ 4 85]]\n"
          ]
        }
      ]
    },
    {
      "cell_type": "markdown",
      "source": [
        "**9. As per the homework requirements, I will extract the support vectors, the indicies and the count now.**"
      ],
      "metadata": {
        "id": "kxnvvDq-I-qv"
      }
    },
    {
      "cell_type": "code",
      "source": [
        "support_indices = best_svc.support_\n",
        "print(\"\\nIndices of Support Vectors:\", support_indices)\n",
        "\n",
        "support_vectors = best_svc.support_vectors_\n",
        "print(\"\\nSupport Vectors (feature values after scaling):\\n\", support_vectors)\n",
        "\n",
        "n_support_vectors = best_svc.n_support_\n",
        "print(\"\\nNumber of Support Vectors for Each Class:\", n_support_vectors)"
      ],
      "metadata": {
        "colab": {
          "base_uri": "https://localhost:8080/"
        },
        "id": "fc0yw8XZJJ5O",
        "outputId": "87f3b2f8-25dc-4a07-b386-cc22d631c5f6"
      },
      "execution_count": 11,
      "outputs": [
        {
          "output_type": "stream",
          "name": "stdout",
          "text": [
            "\n",
            "Indices of Support Vectors: [  1   5   7  40  66  71 101 105 108 118 133 144 148 154 164 168 173 207\n",
            " 254 281 295 300 303 306 323 325 331 335 336 362 374 380 406 412 416 417\n",
            " 424  24  30  32  36  43  78  97 120 122 131 151 152 165 167 194 211 218\n",
            " 250 252 255 276 290 297 304 305 326 327 349 351 353 359 373 376 390 391\n",
            " 392 407 408]\n",
            "\n",
            "Support Vectors (feature values after scaling):\n",
            " [[-2.04686647e-01  3.12640109e-01 -1.33672558e-01 -2.75879949e-01\n",
            "   1.07807258e+00]\n",
            " [ 3.27802485e-01  7.59894168e-01  2.89792452e-01  1.56396038e-01\n",
            "  -3.57322049e-01]\n",
            " [ 2.76819483e-01  6.67603648e-01  2.21411916e-01  1.62575421e-01\n",
            "  -3.58038671e-01]\n",
            " [ 5.62890772e-01 -2.71866519e-01  5.44365776e-01  4.44018267e-01\n",
            "   1.18515211e-01]\n",
            " [-1.45206478e-01  1.29943875e+00 -1.69922481e-01 -2.31219857e-01\n",
            "  -2.13280950e-01]\n",
            " [-6.46539330e-01 -1.18048985e-01 -5.74850600e-01 -6.01982886e-01\n",
            "   1.09957125e+00]\n",
            " [-4.73763602e-01 -8.27976064e-01 -3.83714641e-01 -4.99461291e-01\n",
            "   2.31066307e+00]\n",
            " [ 4.21271322e-01  4.28678190e-02  3.34280994e-01  2.91218957e-01\n",
            "  -1.22945148e+00]\n",
            " [ 1.57859145e-01  2.20349589e-01  1.17605318e-01  8.30860749e-02\n",
            "   2.23142078e-01]\n",
            " [-3.66132820e-01  7.40962780e-01 -2.72905217e-01 -4.26151329e-01\n",
            "   9.49080548e-01]\n",
            " [-5.04919881e-01  1.81295267e+00 -4.42208836e-01 -4.98618648e-01\n",
            "   5.62104463e-01]\n",
            " [ 1.08405035e+00  1.91952505e-01  9.19222935e-01  9.18707297e-01\n",
            "  -8.26709706e-01]\n",
            " [ 7.27169334e-01  2.36914554e-01  6.26751965e-01  5.69291230e-01\n",
            "  -1.47525296e+00]\n",
            " [ 3.60664181e-02  5.96610940e-01  7.18809828e-02 -6.15676828e-02\n",
            "   1.91610693e-01]\n",
            " [-6.69198442e-01 -2.50568707e-01 -6.95546366e-01 -6.28666589e-01\n",
            "   2.95520938e-01]\n",
            " [ 2.45663204e-01  1.42012635e+00  1.50559793e-01  1.23252070e-01\n",
            "  -1.20836664e-01]\n",
            " [-6.57868886e-01 -6.19730788e-01 -5.31185919e-01 -6.26138660e-01\n",
            "   9.70579219e-01]\n",
            " [ 2.62657538e-01 -3.04913125e-02  2.21411916e-01  1.31959383e-01\n",
            "  -2.44095713e-01]\n",
            " [-2.69831594e-01  6.17908753e-01 -2.66314322e-01 -3.46661982e-01\n",
            "   1.13498854e-01]\n",
            " [-8.98621951e-01  5.09053267e-01 -8.23244959e-01 -7.97195239e-01\n",
            "   1.94518565e+00]\n",
            " [-1.45206478e-01  1.36806503e+00 -1.57976484e-01 -2.02850868e-01\n",
            "  -4.84578034e-02]\n",
            " [-1.96189480e-01  1.02028409e-01 -2.49013223e-01 -2.51443295e-01\n",
            "  -3.63771650e-01]\n",
            " [-7.43967528e-02 -5.36905962e-01 -3.81045793e-02 -2.13524349e-01\n",
            "   5.04774673e-01]\n",
            " [-2.69831594e-01 -1.27514680e-01 -2.43246190e-01 -3.37954668e-01\n",
            "   1.45071621e+00]\n",
            " [ 2.34333648e-01 -3.85454852e-01  2.04522747e-01  6.51096856e-02\n",
            "   1.51521223e+00]\n",
            " [-3.83127154e-01  7.74092710e-01 -4.18728772e-01 -4.17444015e-01\n",
            "  -3.58755293e-01]\n",
            " [-4.08618655e-01  1.09829274e+00 -3.78771470e-01 -4.37948334e-01\n",
            "   1.19273216e+00]\n",
            " [-1.93357091e-01  5.63481010e-01 -2.35007571e-01 -2.58184441e-01\n",
            "  -9.98699077e-01]\n",
            " [-8.61800894e-01 -8.72854788e-02 -7.65574627e-01 -8.23878942e-01\n",
            "   1.86635719e+00]\n",
            " [-2.38675315e-01  2.55845943e-01 -1.88047443e-01 -3.08181274e-01\n",
            "   6.12268030e-01]\n",
            " [ 2.82484261e-01 -5.96066552e-01  2.84025419e-01  1.73248903e-01\n",
            "  -4.87030699e-01]\n",
            " [ 3.53293986e-01  8.42718994e-01  3.42519613e-01  2.05831108e-01\n",
            "  -2.54845048e-01]\n",
            " [ 1.35200033e-01  9.68139445e-01  8.58866349e-02  2.74716205e-02\n",
            "  -6.26055440e-01]\n",
            " [ 8.42170311e-02  1.35158339e-01  1.06895113e-01 -3.48839799e-02\n",
            "   1.40730505e-01]\n",
            " [ 5.40231660e-01 -8.72938112e-01  5.73200942e-01  3.88403812e-01\n",
            "  -4.63079362e-02]\n",
            " [ 1.90720841e-02  1.09119347e+00  4.05742310e-02 -1.24204164e-01\n",
            "  -6.63733628e-02]\n",
            " [-4.04080848e-02  9.96619853e-02 -3.15136842e-02 -1.55662846e-01\n",
            "   7.48426282e-01]\n",
            " [ 1.74853479e-01  1.47218767e+00  1.15957594e-01  3.84259827e-02\n",
            "  -9.17720749e-01]\n",
            " [ 1.60691534e-01 -1.23500092e+00  2.60957286e-01  3.31584734e-03\n",
            "   5.40605792e-01]\n",
            " [-1.42374089e-01  9.53940903e-01 -1.93402545e-01 -2.29534570e-01\n",
            "  -2.21880419e-01]\n",
            " [ 1.15373310e-01 -1.23500092e+00  8.13553945e-02 -3.01090015e-02\n",
            "   1.02790901e+00]\n",
            " [ 9.83789761e-02  1.37043146e+00  1.61681929e-01  4.15849059e-03\n",
            "  -5.14978972e-01]\n",
            " [ 2.11674536e-01  2.39280977e-01  1.74451788e-01  7.29743559e-02\n",
            "   2.24878121e-02]\n",
            " [-7.15643638e-02  3.55235734e-01 -8.71243617e-02 -1.96952365e-01\n",
            "   1.60382107e-02]\n",
            " [ 7.69655169e-01  6.17992077e-02  6.80302987e-01  6.32770354e-01\n",
            "  -1.51251732e+00]\n",
            " [-2.58502038e-01  2.09692350e+00 -2.88558593e-01 -3.27281187e-01\n",
            "  -6.33938287e-01]\n",
            " [ 2.37166037e-01 -2.33920417e-02  2.11937504e-01  9.09507452e-02\n",
            "  -4.03902503e-01]\n",
            " [ 6.73353943e-01 -2.15072353e-01  6.06155417e-01  5.14519418e-01\n",
            "   9.34334276e-02]\n",
            " [-5.89891550e-01  2.11585489e+00 -6.19339142e-01 -5.75860946e-01\n",
            "  -5.75891874e-01]\n",
            " [-3.17982207e-01  3.74167122e-01 -3.44993133e-01 -3.80648593e-01\n",
            "   1.28589307e+00]\n",
            " [-7.08851888e-01 -2.41103012e-01 -6.38699896e-01 -6.91303071e-01\n",
            "   1.57254202e+00]\n",
            " [ 5.79885106e-01 -7.40418391e-01  5.93797489e-01  3.75202401e-01\n",
            "   2.32458169e-01]\n",
            " [-3.03820262e-01 -1.44079645e-01 -2.79908044e-01 -4.01433793e-01\n",
            "   9.06083205e-01]\n",
            " [ 3.88988071e-02  1.06761256e-01  2.44891979e-01 -7.02749964e-02\n",
            "  -1.23160135e+00]\n",
            " [-7.06019499e-01  2.38799360e+00 -7.00901468e-01 -6.73607563e-01\n",
            "  -1.42335335e-01]\n",
            " [ 4.49595212e-01 -1.24683304e+00  4.16667183e-01  2.99926271e-01\n",
            "  -6.70899852e-02]\n",
            " [ 2.39998426e-01 -5.32173115e-01  1.78571097e-01  8.70184101e-02\n",
            "   2.14542610e-01]\n",
            " [ 1.32367644e-01  8.23787605e-01  1.85573923e-01  6.12465817e-03\n",
            "  -7.75829518e-01]\n",
            " [-5.38908548e-01  1.99051776e-01 -5.11413234e-01 -5.66872751e-01\n",
            "   1.00641034e+00]\n",
            " [-3.51970875e-01 -2.31637318e-01 -3.06271624e-01 -4.54520318e-01\n",
            "   1.88068964e+00]\n",
            " [-1.56479984e+00  4.21495594e-01 -1.53341391e+00 -1.21655070e+00\n",
            "   2.05984523e+00]\n",
            " [ 5.71387939e-01 -1.02675565e+00  5.11411300e-01  4.07503726e-01\n",
            "  -4.34414467e-02]\n",
            " [ 2.76819483e-01 -6.64692836e-01  3.16979895e-01  5.49979666e-02\n",
            "   1.39338642e+00]\n",
            " [-3.83127154e-01  2.42112353e+00 -4.33970217e-01 -4.12949918e-01\n",
            "  -9.17004126e-01]\n",
            " [-6.89025165e-01  1.24027816e+00 -6.39111827e-01 -6.98044217e-01\n",
            "   2.00968167e+00]\n",
            " [-2.05813618e-02  1.88157895e+00 -2.08034797e-02 -1.53134916e-01\n",
            "   2.67572666e-01]\n",
            " [-2.10351425e-01  2.72639218e+00 -2.28416676e-01 -2.74475544e-01\n",
            "  -2.22597041e-01]\n",
            " [-6.04053495e-01  1.34676722e+00 -5.88032390e-01 -6.00016719e-01\n",
            "   5.33439568e-01]\n",
            " [-7.57002501e-01  4.19129171e-01 -7.44566149e-01 -7.11807390e-01\n",
            "   1.04940768e+00]\n",
            " [ 6.16706163e-01 -8.27976064e-01  5.27888538e-01  4.63118180e-01\n",
            "  -9.21717685e-02]\n",
            " [ 4.55259990e-01 -1.87393529e+00  4.49621659e-01  2.59198514e-01\n",
            "   6.26600477e-01]\n",
            " [-3.51970875e-01  2.30043593e+00 -3.86598158e-01 -3.94973528e-01\n",
            "  -1.02664735e+00]\n",
            " [-1.37502978e+00 -1.49767394e+00 -1.25206507e+00 -1.14099368e+00\n",
            "   4.86183873e+00]\n",
            " [ 2.45663204e-01  6.88901460e-01  2.32534051e-01  1.08927135e-01\n",
            "  -7.45731378e-01]\n",
            " [ 1.05572646e+00 -1.41248269e+00  9.35700173e-01  9.47076286e-01\n",
            "  -1.23088473e+00]]\n",
            "\n",
            "Number of Support Vectors for Each Class: [37 38]\n"
          ]
        }
      ]
    },
    {
      "cell_type": "markdown",
      "source": [
        "**10. Next homework requirement is to list the weight vectors which is nothing but the coefficients from the linear SVM, I found that for a linear SVM .coef returns a 2D array of classes and features. In a binary classification this would be 1 and features.**"
      ],
      "metadata": {
        "id": "mtJ42NrLJdPG"
      }
    },
    {
      "cell_type": "code",
      "source": [
        "weight_vector = best_svc.coef_[0]\n",
        "print(\"\\nWeight Vector (Coefficients) for Each Feature:\\n\", weight_vector)"
      ],
      "metadata": {
        "colab": {
          "base_uri": "https://localhost:8080/"
        },
        "id": "DPFeP90aJ-kY",
        "outputId": "ab31f5a1-d6f5-40a0-96ca-9a4411204824"
      },
      "execution_count": 12,
      "outputs": [
        {
          "output_type": "stream",
          "name": "stdout",
          "text": [
            "\n",
            "Weight Vector (Coefficients) for Each Feature:\n",
            " [ 8.21548018 -1.05696857 -6.52080945 -5.39162943 -1.21269819]\n"
          ]
        }
      ]
    },
    {
      "cell_type": "code",
      "source": [
        "bias = best_svc.intercept_[0]\n",
        "print(\"\\nIntercept (Bias) of the Model:\\n\", bias)"
      ],
      "metadata": {
        "colab": {
          "base_uri": "https://localhost:8080/"
        },
        "id": "PMdyYeiMKBzO",
        "outputId": "82a7f1b9-a147-4ba8-e340-9cf15009fe05"
      },
      "execution_count": 13,
      "outputs": [
        {
          "output_type": "stream",
          "name": "stdout",
          "text": [
            "\n",
            "Intercept (Bias) of the Model:\n",
            " 0.2413017455368774\n"
          ]
        }
      ]
    },
    {
      "cell_type": "markdown",
      "source": [
        "**11. In order to see what decision our model arrives at, I shall pick one test sample**"
      ],
      "metadata": {
        "id": "4F_gNxTLKnX7"
      }
    },
    {
      "cell_type": "code",
      "source": [
        "test_sample_index = 0\n",
        "test_sample = X_test_scaled[test_sample_index].reshape(1, -1)\n",
        "\n",
        "prediction = best_svc.predict(test_sample)[0]\n",
        "predicted_class = le.inverse_transform([prediction])[0]\n",
        "\n",
        "print(f\"\\nTest Sample Index {test_sample_index} Predicted Class:\", predicted_class)\n",
        "\n",
        "decision_value = best_svc.decision_function(test_sample)[0]\n",
        "print(f\"Decision Function Value for Sample {test_sample_index}: {decision_value:.4f}\")\n",
        "\n",
        "feature_names = X.columns\n",
        "contributions = weight_vector * test_sample[0]\n",
        "\n",
        "feature_contributions = list(zip(feature_names, contributions))\n",
        "\n",
        "feature_contributions_sorted = sorted(\n",
        "    feature_contributions, key=lambda x: abs(x[1]), reverse=True\n",
        ")\n",
        "\n",
        "print(\"\\nFeature Contributions to the Decision:\")\n",
        "for feat, contrib in feature_contributions_sorted:\n",
        "    print(f\"{feat}: {contrib:.4f}\")"
      ],
      "metadata": {
        "colab": {
          "base_uri": "https://localhost:8080/"
        },
        "id": "j9gA-1EEKwGV",
        "outputId": "f4621b5f-f53f-4135-e982-eb236f0f2753"
      },
      "execution_count": 16,
      "outputs": [
        {
          "output_type": "stream",
          "name": "stdout",
          "text": [
            "\n",
            "Test Sample Index 0 Predicted Class: 1\n",
            "Decision Function Value for Sample 0: 1.7096\n",
            "\n",
            "Feature Contributions to the Decision:\n",
            "mean_radius: -3.8457\n",
            "mean_perimeter: 2.8997\n",
            "mean_area: 2.6202\n",
            "mean_smoothness: -0.3558\n",
            "mean_texture: 0.1498\n"
          ]
        }
      ]
    },
    {
      "cell_type": "markdown",
      "source": [
        "# CONCLUSION:\n",
        "\n",
        "\n",
        "\n",
        "1. Positive contributions are pushing the svm decision value towards malignant which is 1.\n",
        "2. So Negative contributions are pushing the svm decision value towards benign which is 0\n",
        "3. The magnitude shows us how strongly each feature influences the decision, in the final code output we can see how each feature is contributing to the decision.\n",
        "\n"
      ],
      "metadata": {
        "id": "xi2XsRJQL-bc"
      }
    }
  ]
}