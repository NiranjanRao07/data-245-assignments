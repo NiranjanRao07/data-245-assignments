{
  "nbformat": 4,
  "nbformat_minor": 0,
  "metadata": {
    "colab": {
      "provenance": []
    },
    "kernelspec": {
      "name": "python3",
      "display_name": "Python 3"
    },
    "language_info": {
      "name": "python"
    }
  },
  "cells": [
    {
      "cell_type": "code",
      "source": [
        "import pandas as pd\n",
        "\n",
        "url = 'https://stats.idre.ucla.edu/stat/data/binary.csv'\n",
        "df = pd.read_csv(url)\n",
        "\n",
        "print(df.info())\n",
        "print(df.head())"
      ],
      "metadata": {
        "colab": {
          "base_uri": "https://localhost:8080/"
        },
        "id": "oIAVKTd8ugB9",
        "outputId": "03bc95e8-f0dc-4179-c4ef-bbbfe67546a3"
      },
      "execution_count": 2,
      "outputs": [
        {
          "output_type": "stream",
          "name": "stdout",
          "text": [
            "<class 'pandas.core.frame.DataFrame'>\n",
            "RangeIndex: 400 entries, 0 to 399\n",
            "Data columns (total 4 columns):\n",
            " #   Column  Non-Null Count  Dtype  \n",
            "---  ------  --------------  -----  \n",
            " 0   admit   400 non-null    int64  \n",
            " 1   gre     400 non-null    int64  \n",
            " 2   gpa     400 non-null    float64\n",
            " 3   rank    400 non-null    int64  \n",
            "dtypes: float64(1), int64(3)\n",
            "memory usage: 12.6 KB\n",
            "None\n",
            "   admit  gre   gpa  rank\n",
            "0      0  380  3.61     3\n",
            "1      1  660  3.67     3\n",
            "2      1  800  4.00     1\n",
            "3      1  640  3.19     4\n",
            "4      0  520  2.93     4\n"
          ]
        }
      ]
    },
    {
      "cell_type": "code",
      "source": [
        "print(df.isna().sum())"
      ],
      "metadata": {
        "colab": {
          "base_uri": "https://localhost:8080/"
        },
        "id": "aoQgu2d7wSx9",
        "outputId": "f923c25a-a21b-4be2-e74f-a2a10ad848e7"
      },
      "execution_count": 3,
      "outputs": [
        {
          "output_type": "stream",
          "name": "stdout",
          "text": [
            "admit    0\n",
            "gre      0\n",
            "gpa      0\n",
            "rank     0\n",
            "dtype: int64\n"
          ]
        }
      ]
    },
    {
      "cell_type": "code",
      "source": [
        "print(df.describe())"
      ],
      "metadata": {
        "colab": {
          "base_uri": "https://localhost:8080/"
        },
        "id": "arhALXLKwdB2",
        "outputId": "52622961-d353-4d5b-ae76-af65f60350ab"
      },
      "execution_count": 4,
      "outputs": [
        {
          "output_type": "stream",
          "name": "stdout",
          "text": [
            "            admit         gre         gpa       rank\n",
            "count  400.000000  400.000000  400.000000  400.00000\n",
            "mean     0.317500  587.700000    3.389900    2.48500\n",
            "std      0.466087  115.516536    0.380567    0.94446\n",
            "min      0.000000  220.000000    2.260000    1.00000\n",
            "25%      0.000000  520.000000    3.130000    2.00000\n",
            "50%      0.000000  580.000000    3.395000    2.00000\n",
            "75%      1.000000  660.000000    3.670000    3.00000\n",
            "max      1.000000  800.000000    4.000000    4.00000\n"
          ]
        }
      ]
    },
    {
      "cell_type": "code",
      "source": [
        "print(pd.crosstab(df['admit'], df['rank']))"
      ],
      "metadata": {
        "colab": {
          "base_uri": "https://localhost:8080/"
        },
        "id": "mrqg8gAFw5tC",
        "outputId": "acb434ee-6e8b-48f0-ca8e-8d6cd2102115"
      },
      "execution_count": 5,
      "outputs": [
        {
          "output_type": "stream",
          "name": "stdout",
          "text": [
            "rank    1   2   3   4\n",
            "admit                \n",
            "0      28  97  93  55\n",
            "1      33  54  28  12\n"
          ]
        }
      ]
    },
    {
      "cell_type": "code",
      "source": [
        "import pandas as pd\n",
        "import statsmodels.api as sm\n",
        "\n",
        "url = 'https://stats.idre.ucla.edu/stat/data/binary.csv'\n",
        "df = pd.read_csv(url)\n",
        "\n",
        "df['rank'] = df['rank'].astype('category')\n",
        "\n",
        "X = df[['gre', 'gpa', 'rank']]\n",
        "X = sm.add_constant(X)\n",
        "\n",
        "y = df['admit']\n",
        "\n",
        "logit_model = sm.Logit(y, X).fit()\n",
        "\n",
        "print(logit_model.summary())\n"
      ],
      "metadata": {
        "colab": {
          "base_uri": "https://localhost:8080/"
        },
        "id": "J3oS4VDaxr3M",
        "outputId": "3aae704b-ff28-4097-8343-ff549652c2ed"
      },
      "execution_count": 19,
      "outputs": [
        {
          "output_type": "stream",
          "name": "stdout",
          "text": [
            "Optimization terminated successfully.\n",
            "         Current function value: 0.574302\n",
            "         Iterations 6\n",
            "                           Logit Regression Results                           \n",
            "==============================================================================\n",
            "Dep. Variable:                  admit   No. Observations:                  400\n",
            "Model:                          Logit   Df Residuals:                      396\n",
            "Method:                           MLE   Df Model:                            3\n",
            "Date:                Thu, 13 Feb 2025   Pseudo R-squ.:                 0.08107\n",
            "Time:                        00:56:42   Log-Likelihood:                -229.72\n",
            "converged:                       True   LL-Null:                       -249.99\n",
            "Covariance Type:            nonrobust   LLR p-value:                 8.207e-09\n",
            "==============================================================================\n",
            "                 coef    std err          z      P>|z|      [0.025      0.975]\n",
            "------------------------------------------------------------------------------\n",
            "const         -3.4495      1.133     -3.045      0.002      -5.670      -1.229\n",
            "gre            0.0023      0.001      2.101      0.036       0.000       0.004\n",
            "gpa            0.7770      0.327      2.373      0.018       0.135       1.419\n",
            "rank          -0.5600      0.127     -4.405      0.000      -0.809      -0.311\n",
            "==============================================================================\n"
          ]
        }
      ]
    },
    {
      "cell_type": "code",
      "source": [
        "new_data = pd.DataFrame({'gre': [790], 'gpa': [3.8], 'rank': [1]})\n",
        "\n",
        "new_data['rank'] = new_data['rank'].astype('category')\n",
        "\n",
        "new_data = sm.add_constant(new_data, has_constant='add')\n",
        "\n",
        "probability = logit_model.predict(new_data)\n",
        "print(probability)\n"
      ],
      "metadata": {
        "colab": {
          "base_uri": "https://localhost:8080/"
        },
        "id": "MV9BDEun0F25",
        "outputId": "da1177cd-5847-4ace-ea3f-0f9361cef05f"
      },
      "execution_count": 23,
      "outputs": [
        {
          "output_type": "stream",
          "name": "stdout",
          "text": [
            "0    0.680332\n",
            "dtype: float64\n"
          ]
        }
      ]
    }
  ]
}